{
 "cells": [
  {
   "cell_type": "code",
   "execution_count": null,
   "metadata": {},
   "outputs": [],
   "source": [
    "import pandas as pd\n",
    "from datetime import datetime as date\n",
    "\n",
    "quiet_query = 'SK >= 0 and SK <= 2'\n",
    "low_query = 'SK > 2 and SK <= 3'\n",
    "medium_query = 'SK == 4'\n",
    "storm_query = 'SK > 4 and SK <= 6'\n",
    "heavy_storm_query = 'SK > 6'\n",
    "\n",
    "k_index_table = pd.read_csv('./2022/PET/k-index.txt', delimiter='\\s+')\n",
    "#quite = list(filter(is_quite, k_index_table))\n",
    "#quite = k_index_table[(k_index_table[\"SK\"] >= 0) & (k_index_table[\"SK\"] <=0)]\n",
    "K_DATA_2022 ={}\n",
    "K_DATA_2022[\"quiet\"] = k_index_table.query(quiet_query)\n",
    "K_DATA_2022[\"low\"] = k_index_table.query(low_query)\n",
    "K_DATA_2022[\"medium\"] = k_index_table.query(medium_query)\n",
    "K_DATA_2022[\"storm\"] = k_index_table.query(storm_query)\n",
    "K_DATA_2022[\"heavy_storm\"] = k_index_table.query(heavy_storm_query)\n",
    "#dates = date.strptime(quiet[0]['DA-MON-YR'][0], '%d-%m-%y')\n",
    "dates = {}\n",
    "\n",
    "print(K_DATA_2022[\"quiet\"][\"DA-MON-YR\"].values)\n",
    "\n",
    "#for q in quiet.keys: dates[q]=(quiet[q]['DA-MON-YR'].values)\n",
    "\n",
    "#print(dates[0])\n",
    "\n",
    "v = []\n",
    "#for d in dates: v.append(date.strptime(d, '%d-%b-%y'))"
   ]
  },
  {
   "cell_type": "code",
   "execution_count": null,
   "metadata": {},
   "outputs": [],
   "source": [
    "import petki as pet\n",
    "\n",
    "dates = {}\n",
    "\n",
    "for k in pet.K_DATA_2022.keys(): dates[k] = pet.K_DATA_2022[k][\"DA-MON-YR\"].values\n",
    "\n",
    "v = dates[\"heavy_storm\"]"
   ]
  },
  {
   "cell_type": "code",
   "execution_count": 1,
   "metadata": {},
   "outputs": [
    {
     "name": "stdout",
     "output_type": "stream",
     "text": [
      "<module 'ntpath' from 'c:\\\\Program Files\\\\Python310\\\\lib\\\\ntpath.py'>\n",
      "{}\n",
      "((7 <= `1`) or (7 <= `2`) or (7 <= `3`) or (7 <= `4`) or (7 <= `5`) or (7 <= `6`) or (7 <= `7`) or (7 <= `8`) ) \n"
     ]
    }
   ],
   "source": [
    "import petki as pet\n",
    "\n",
    "q_q = ''\n",
    "\n",
    "for i in range(1,9): \n",
    "    and_op = \"and\" if i<8 else \"\"\n",
    "    q_q += f\"0 <= `{i}` <= 2 {and_op} \"\n",
    "\n",
    "l_q = '('\n",
    "\n",
    "for i in range(1,9): \n",
    "    and_op = \"and\" if i<8 else \"\"\n",
    "    l_q += f\"(0 <= `{i}` <= 3) {and_op} \"\n",
    "\n",
    "l_q += \") and (\"\n",
    "\n",
    "\n",
    "for i in range(1,9):\n",
    "    or_op = \"or\" if i<8 else \")\"\n",
    "    l_q += f\"`{i}` == 3 {or_op} \"\n",
    "\n",
    "\n",
    "m_q = '('\n",
    "\n",
    "for i in range(1,9): \n",
    "    and_op = \"and\" if i<8 else \"\"\n",
    "    m_q += f\"(0 <= `{i}` <= 4) {and_op} \"\n",
    "\n",
    "m_q += \") and (\"\n",
    "\n",
    "\n",
    "for i in range(1,9):\n",
    "    or_op = \"or\" if i<8 else \")\"\n",
    "    m_q += f\"`{i}` == 4 {or_op} \"\n",
    "\n",
    "    ##\n",
    "st_q = '('\n",
    "\n",
    "for i in range(1,9): \n",
    "    and_op = \"and\" if i<8 else \"\"\n",
    "    st_q += f\"(0 <= `{i}` <= 5) {and_op} \"\n",
    "\n",
    "st_q += \") and (\"\n",
    "\n",
    "\n",
    "for i in range(1,9):\n",
    "    or_op = \"or\" if i<8 else \")\"\n",
    "    st_q += f\"(5 <= `{i}` <= 6) {or_op} \"\n",
    "\n",
    "h_st_q = '('\n",
    "\n",
    "for i in range(1,9):\n",
    "    or_op = \"or\" if i<8 else \")\"\n",
    "    h_st_q += f\"(7 <= `{i}`) {or_op} \"\n",
    "\n",
    "print(h_st_q)\n",
    "\n",
    "data = pet.k_index_table.query(h_st_q)\n",
    "\n"
   ]
  },
  {
   "cell_type": "code",
   "execution_count": 2,
   "metadata": {},
   "outputs": [],
   "source": [
    "import petki as pet\n",
    "\n",
    "dates = pet.K_DATA"
   ]
  }
 ],
 "metadata": {
  "language_info": {
   "name": "python"
  }
 },
 "nbformat": 4,
 "nbformat_minor": 2
}
