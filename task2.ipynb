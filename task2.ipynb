{
 "cells": [
  {
   "cell_type": "code",
   "execution_count": 7,
   "metadata": {},
   "outputs": [
    {
     "name": "stdout",
     "output_type": "stream",
     "text": [
      "720 720\n",
      "722 722\n",
      "724 724\n",
      "726 726\n",
      "728 728\n",
      "730 730\n"
     ]
    },
    {
     "name": "stderr",
     "output_type": "stream",
     "text": [
      "C:\\Users\\Sashka\\AppData\\Local\\Temp/ipykernel_14896/3978823816.py:22: UserWarning: This figure was using constrained_layout, but that is incompatible with subplots_adjust and/or tight_layout; disabling constrained_layout.\n",
      "  plot.subplots_adjust(hspace=1)\n"
     ]
    },
    {
     "data": {
      "image/png": "[encoded data removed]",
      "text/plain": [
       "<Figure size 432x288 with 1 Axes>"
      ]
     },
     "metadata": {
      "needs_background": "light"
     },
     "output_type": "display_data"
    }
   ],
   "source": [
    "import pywt\n",
    "import pet2017 as pet\n",
    "import matplotlib.pyplot as plot\n",
    "import numpy as np\n",
    "\n",
    "quiet1 = [*pet.data_by_month('2017-09-07')[\"PETH\"]]\n",
    "\n",
    "[A2, D1] = pywt.dwt(quiet1, 'db1')\n",
    "[A2, D2] = pywt.dwt(A2, 'db1')\n",
    "\n",
    "D1 *= 0\n",
    "\n",
    "A = pywt.idwt(A2, D2, 'db1')\n",
    "\n",
    "quiet1_0 = pywt.idwt(A, D1, 'db1')\n",
    "\n",
    "fig, axs = plot.subplot_mosaic([['c-0']],\n",
    "                              constrained_layout=True)\n",
    "\n",
    "#plot.rcParams['figure.dpi'] = 170\n",
    "plot.rcParams['font.size'] = 5\n",
    "plot.subplots_adjust(hspace=1)\n",
    "\n",
    "axs['c-0'].set_title(\"Исходный сигнал\")\n",
    "#axs['c-1-1'].set_title(\"Восстановленный сигнал\")\n",
    "\n",
    "axs['c-0'].plot(quiet1, linewidth=0.4)\n",
    "axs['c-0'].plot(quiet1_0, linewidth=0.4)\n",
    "\n",
    "E1 = np.linalg.norm(quiet1 - quiet1_0)\n",
    "\n",
    "\n",
    "def CalcEWithDwt(signal, wavelet):\n",
    "    [A2, D1] = pywt.dwt(signal, wavelet=wavelet)\n",
    "    [A2, D2] = pywt.dwt(A2, wavelet=wavelet)\n",
    "    D1 *= 0\n",
    "    A = pywt.idwt(A2, D2, wavelet=wavelet)\n",
    "    print(len(A), len(D1))\n",
    "    signal_reconstruct = pywt.idwt(A, D1, wavelet=wavelet)\n",
    "    E = np.linalg.norm(signal - signal_reconstruct)\n",
    "    return (E, signal_reconstruct)\n",
    "\n",
    "[E1, sr] = CalcEWithDwt(quiet1, 'db1')\n",
    "[E3, sr] = CalcEWithDwt(quiet1, 'db3')\n",
    "[E5, sr] = CalcEWithDwt(quiet1, 'db5')\n",
    "[E7, sr] = CalcEWithDwt(quiet1, 'db7')\n",
    "[E9, sr] = CalcEWithDwt(quiet1, 'db9')\n",
    "[E11, sr] = CalcEWithDwt(quiet1, 'db11')"
   ]
  }
 ],
 "metadata": {
  "kernelspec": {
   "display_name": "Python 3",
   "language": "python",
   "name": "python3"
  },
  "language_info": {
   "codemirror_mode": {
    "name": "ipython",
    "version": 3
   },
   "file_extension": ".py",
   "mimetype": "text/x-python",
   "name": "python",
   "nbconvert_exporter": "python",
   "pygments_lexer": "ipython3",
   "version": "3.9.6"
  }
 },
 "nbformat": 4,
 "nbformat_minor": 2
}
